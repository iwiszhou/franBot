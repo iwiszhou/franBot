{
 "cells": [
  {
   "cell_type": "code",
   "execution_count": 3,
   "id": "d6c07e82",
   "metadata": {},
   "outputs": [],
   "source": [
    "import redis\n",
    "\n",
    "r = redis.Redis(\n",
    "  host='redis-11499.c124.us-central1-1.gce.cloud.redislabs.com',\n",
    "  port=11499,\n",
    "  password='kp4rM1Dy53QIllY6v8EQ0Horv50n18Zk')"
   ]
  },
  {
   "cell_type": "code",
   "execution_count": null,
   "id": "096a86b9",
   "metadata": {},
   "outputs": [],
   "source": [
    "r.ping()"
   ]
  }
 ],
 "metadata": {
  "kernelspec": {
   "display_name": "Python 3 (ipykernel)",
   "language": "python",
   "name": "python3"
  },
  "language_info": {
   "codemirror_mode": {
    "name": "ipython",
    "version": 3
   },
   "file_extension": ".py",
   "mimetype": "text/x-python",
   "name": "python",
   "nbconvert_exporter": "python",
   "pygments_lexer": "ipython3",
   "version": "3.11.4"
  }
 },
 "nbformat": 4,
 "nbformat_minor": 5
}
