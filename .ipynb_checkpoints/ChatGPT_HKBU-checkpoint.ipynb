{
 "cells": [
  {
   "cell_type": "code",
   "execution_count": null,
   "id": "a33e8964",
   "metadata": {},
   "outputs": [
    {
     "name": "stdout",
     "output_type": "stream",
     "text": [
      "Typing anything to ChatGPT:\thi\n",
      "Hello! How can I assist you today?\n",
      "Typing anything to ChatGPT:\ttell me some jokes\n",
      "Sure, here are a few jokes for you:\n",
      "\n",
      "1. Why don't scientists trust atoms? \n",
      "\n",
      "Because they make up everything!\n",
      "\n",
      "2. What do you call a fish with no eyes?\n",
      "\n",
      "Fsh.\n",
      "\n",
      "3. Why can't a bicycle stand on its own?\n",
      "\n",
      "Because it's two-tired!\n",
      "\n",
      "4. Why don't skeletons fight at all?\n",
      "\n",
      "They don't have the guts!\n",
      "\n",
      "5. How does a penguin build its house?\n",
      "\n",
      "Igloos it together!\n",
      "\n",
      "Remember, jokes are subjective, so what might be funny to one person might not be funny to another. Enjoy!\n",
      "Typing anything to ChatGPT:\tthank you\n",
      "You're welcome! If you have any more questions or need further assistance, feel free to ask.\n",
      "Typing anything to ChatGPT:\tsee you\n",
      "Goodbye!\n"
     ]
    }
   ],
   "source": [
    "import configparser\n",
    "import requests\n",
    "class HKBU_ChatGPT():\n",
    "    def __init__(self,config_path='./config.ini'):\n",
    "        if type(config_path) == str:\n",
    "            self.config = configparser.ConfigParser()\n",
    "            self.config.read(config_path)\n",
    "        elif type(config_path) == configparser.ConfigParser:\n",
    "            self.config = config_path\n",
    "\n",
    "    def submit(self,message):\n",
    "        conversation = [{\"role\": \"user\", \"content\": message}]\n",
    "        url = (self.config['CHATGPT']['BASICURL']) + \"/deployments/\" + (self.config['CHATGPT']['MODELNAME']) + \"/chat/completions/?api-version=\" + (self.config['CHATGPT']['APIVERSION'])\n",
    "        headers = { 'Content-Type': 'application/json',\n",
    "        'api-key': (self.config['CHATGPT']['ACCESS_TOKEN']) }\n",
    "        payload = { 'messages': conversation }\n",
    "        response = requests.post(url, json=payload, headers=headers)\n",
    "        if response.status_code == 200:\n",
    "            data = response.json()\n",
    "            return data['choices'][0]['message']['content']\n",
    "        else:\n",
    "            return 'Error:', response\n",
    "\n",
    "if __name__ == '__main__':\n",
    "    ChatGPT_test = HKBU_ChatGPT()\n",
    "    while True:\n",
    "        user_input = input(\"Typing anything to ChatGPT:\\t\")\n",
    "        response = ChatGPT_test.submit(user_input)\n",
    "        print(response)"
   ]
  }
 ],
 "metadata": {
  "kernelspec": {
   "display_name": "Python 3 (ipykernel)",
   "language": "python",
   "name": "python3"
  },
  "language_info": {
   "codemirror_mode": {
    "name": "ipython",
    "version": 3
   },
   "file_extension": ".py",
   "mimetype": "text/x-python",
   "name": "python",
   "nbconvert_exporter": "python",
   "pygments_lexer": "ipython3",
   "version": "3.11.4"
  }
 },
 "nbformat": 4,
 "nbformat_minor": 5
}
